{
  "nbformat": 4,
  "nbformat_minor": 0,
  "metadata": {
    "colab": {
      "provenance": []
    },
    "kernelspec": {
      "name": "python3",
      "display_name": "Python 3"
    },
    "language_info": {
      "name": "python"
    }
  },
  "cells": [
    {
      "cell_type": "code",
      "execution_count": null,
      "metadata": {
        "id": "yz6pt_uxMT95"
      },
      "outputs": [],
      "source": [
        "# Query BigGIM-DrugResponse KP"
      ]
    },
    {
      "cell_type": "code",
      "source": [
        "import requests\n",
        "import json\n",
        "import os\n",
        "#BigGIM_URL = \"https://api.bte.ncats.io/v1/smartapi/adf20dd6ff23dfe18e8e012bde686e31/query\"\n",
        "#BigGIM_URL = \"https://api.bte.ncats.io/v1/smartapi/adf20dd6ff23dfe18e8e012bde686e31/query\"\n",
        "\n",
        "\n",
        "BigGIM_URL_dev = \"https://api.bte.ncats.io/v1/smartapi/adf20dd6ff23dfe18e8e012bde686e31/query\"\n",
        "BigGIM_URL_ci = \"https://bte.ci.transltr.io/v1/smartapi/adf20dd6ff23dfe18e8e012bde686e31/query\"\n",
        "BigGIM_URL_test = \"https://bte.test.transltr.io/v1/smartapi/adf20dd6ff23dfe18e8e012bde686e31/query\" #TRAPI 1.4 endpoint\n",
        "BigGIM_URL = \"https://bte.transltr.io/v1/smartapi/adf20dd6ff23dfe18e8e012bde686e31/query\"  #TRAPI 1.3 endpoint\n",
        "\n",
        "#https://arax.test.transltr.io/ #TRAPI1.4\n",
        "#https://arax.transltr.io/ #TRAPI1.3\n",
        "\n",
        "#Specify url in the ARAX with https://bte.test.transltr.io/v1/smartapi/adf20dd6ff23dfe18e8e012bde686e31 or https://bte.transltr.io/v1/smartapi/adf20dd6ff23dfe18e8e012bde686e31\n",
        "\n",
        "# SmartAPI regstration: https://smart-api.info/registry?q=multiomics\n",
        "\n",
        "#https://arax.test.transltr.io/?r=d4481b81-8067-4fd1-bda7-bcdda5bd2b0c\n",
        "\n"
      ],
      "metadata": {
        "id": "GCtYglwLMY15"
      },
      "execution_count": 172,
      "outputs": []
    },
    {
      "cell_type": "code",
      "source": [
        "#Example: which drugs shows sensitivity with KRAS (NCBIGene:3845) altered?\n",
        "query_json = {\n",
        "    \"message\": {\n",
        "        \"query_graph\": {\n",
        "            \"nodes\": {\n",
        "                \"n0\": {\n",
        "                    \"ids\":[\"NCBIGene:3845\"],\n",
        " \n",
        "                },\n",
        "                \"n1\": {\n",
        "                    \"categories\":[\"biolink:Protein\", \"biolink:Gene\"],\n",
        "\n",
        "               }\n",
        "            },\n",
        "            \"edges\": {\n",
        "                \"e1\": {\n",
        "                    \"subject\": \"n0\",\n",
        "                    \"object\": \"n1\",\n",
        "                    \"predicates\": [\"biolink:physically_interacts_with\"]\n",
        "                }\n",
        "            }\n",
        "        }\n",
        "    }\n",
        "}\n",
        "\n",
        "response = requests.post(BigGIM_URL,json=query_json)\n",
        "result = response.json()[\"message\"]"
      ],
      "metadata": {
        "id": "C05nXgUmMayD"
      },
      "execution_count": 173,
      "outputs": []
    },
    {
      "cell_type": "code",
      "source": [
        "#result['knowledge_graph']"
      ],
      "metadata": {
        "id": "agoYkUCNq9MN"
      },
      "execution_count": 175,
      "outputs": []
    },
    {
      "cell_type": "code",
      "source": [
        "#Example: which drugs shows sensitivity with KRAS (NCBIGene:3845) altered?\n",
        "query_json = {\n",
        "    \"message\": {\n",
        "        \"query_graph\": {\n",
        "            \"nodes\": {\n",
        "                \"n0\": {\n",
        "                    \"ids\":[\"NCBIGene:3845\"],\n",
        "                    \"categories\":[\"biolink:Gene\"]\n",
        "                },\n",
        "                \"n1\": {\n",
        "\n",
        "                    \"categories\":[\"biolink:SmallMolecule\"]\n",
        "               }\n",
        "            },\n",
        "            \"edges\": {\n",
        "                \"e1\": {\n",
        "                    \"subject\": \"n0\",\n",
        "                    \"object\": \"n1\",\n",
        "                    \"predicates\": [\"biolink:associated_with_sensitivity_to\"]\n",
        "                }\n",
        "            }\n",
        "        }\n",
        "    }\n",
        "}\n",
        "\n",
        "response = requests.post(BigGIM_URL,json=query_json)\n",
        "result = response.json()[\"message\"]"
      ],
      "metadata": {
        "id": "yYezcgASMeLz"
      },
      "execution_count": 176,
      "outputs": []
    },
    {
      "cell_type": "code",
      "source": [
        "print(len(result['knowledge_graph']['nodes']))\n",
        "#result['knowledge_graph']"
      ],
      "metadata": {
        "colab": {
          "base_uri": "https://localhost:8080/"
        },
        "id": "PzP2ZN51Mmgm",
        "outputId": "0e0f5ecb-9db3-4bba-91e7-2b7701164a64"
      },
      "execution_count": 178,
      "outputs": [
        {
          "output_type": "stream",
          "name": "stdout",
          "text": [
            "11\n"
          ]
        }
      ]
    },
    {
      "cell_type": "code",
      "source": [
        "# Example: what drugs or small molecules that target BCL2 (NCBIGene: 596)?\n",
        "query_json = {\n",
        "    \"message\": {\n",
        "        \"query_graph\": {\n",
        "            \"nodes\": {\n",
        "                \"n0\": {\n",
        "                    \"categories\":[\"biolink:SmallMolecule\"]\n",
        "                },\n",
        "                \"n1\": {\n",
        "                    \"ids\":[\"NCBIGene:596\"],\n",
        "                    \"categories\":[\"biolink:Gene\"]\n",
        "                    \n",
        "               }\n",
        "            },\n",
        "            \"edges\": {\n",
        "                \"e1\": {\n",
        "                    \"subject\": \"n0\",\n",
        "                    \"object\": \"n1\",\n",
        "                    \"predicates\": [\"biolink:physically_interacts_with\"]\n",
        "                }\n",
        "            }\n",
        "        }\n",
        "    }\n",
        "}\n",
        "\n",
        "response = requests.post(BigGIM_URL,json=query_json)\n",
        "result = response.json()[\"message\"]\n"
      ],
      "metadata": {
        "id": "EGVq-bRDNEAS"
      },
      "execution_count": 12,
      "outputs": []
    },
    {
      "cell_type": "code",
      "source": [
        "print(len(result['knowledge_graph']['nodes']))\n",
        "#result['knowledge_graph']"
      ],
      "metadata": {
        "colab": {
          "base_uri": "https://localhost:8080/"
        },
        "id": "oFyVTv8ANINi",
        "outputId": "e3212402-af34-4411-fcbf-7b3aac870709"
      },
      "execution_count": 117,
      "outputs": [
        {
          "output_type": "stream",
          "name": "stdout",
          "text": [
            "22\n"
          ]
        }
      ]
    },
    {
      "cell_type": "code",
      "source": [
        "# Example: what are the potential biomarkser for liver cancer (MONDO:0007256)?\n",
        "query_json = {\n",
        "    \"message\": {\n",
        "        \"query_graph\": {\n",
        "            \"nodes\": {\n",
        "                \"n0\": {\n",
        "                    \"ids\":[\"MONDO:0007256\"],\n",
        "                    \"categories\":[\"biolink:Disease\"]\n",
        "                },\n",
        "                \"n1\": {\n",
        "                    \"categories\":[\"biolink:Gene\"]\n",
        "                    \n",
        "               }\n",
        "            },\n",
        "            \"edges\": {\n",
        "                \"e1\": {\n",
        "                    \"subject\": \"n0\",\n",
        "                    \"object\": \"n1\",\n",
        "                    \"predicates\": [\"biolink:has_biomarker\"]\n",
        "                }\n",
        "            }\n",
        "        }\n",
        "    }\n",
        "}\n",
        "\n",
        "response = requests.post(BigGIM_URL,json=query_json)\n",
        "result = response.json()[\"message\"]"
      ],
      "metadata": {
        "id": "fJzt1QSTNe5o"
      },
      "execution_count": 16,
      "outputs": []
    },
    {
      "cell_type": "code",
      "source": [
        "# Example: what are the genes that are negatively correlcted with KRAS (NCBIGene:3845) ?\n",
        "query_json = {\n",
        "    \"message\": {\n",
        "        \"query_graph\": {\n",
        "            \"nodes\": {\n",
        "                \"n0\": {\n",
        "                    \"ids\":[\"NCBIGene:3845\"],\n",
        "                    \"categories\":[\"biolink:Gene\"]\n",
        "                },\n",
        "                \"n1\": {\n",
        "                    \"categories\":[\"biolink:Gene\"]\n",
        "                    \n",
        "               }\n",
        "            },\n",
        "            \"edges\": {\n",
        "                \"e1\": {\n",
        "                    \"subject\": \"n0\",\n",
        "                    \"object\": \"n1\",\n",
        "                    \"predicates\": [\"biolink:positively_correlated_with\"]\n",
        "                }\n",
        "            }\n",
        "        }\n",
        "    }\n",
        "}\n",
        "\n",
        "response = requests.post(BigGIM_URL,json=query_json)\n",
        "result = response.json()[\"message\"]"
      ],
      "metadata": {
        "id": "kwcyMu7xNgHo"
      },
      "execution_count": 17,
      "outputs": []
    },
    {
      "cell_type": "code",
      "source": [
        "#result['knowledge_graph']"
      ],
      "metadata": {
        "id": "jGnJXKQxNlrM"
      },
      "execution_count": 4,
      "outputs": []
    },
    {
      "cell_type": "code",
      "source": [
        "# Example case for FA"
      ],
      "metadata": {
        "id": "zjJNTdxYBDOj"
      },
      "execution_count": 5,
      "outputs": []
    },
    {
      "cell_type": "code",
      "source": [
        "import json\n",
        "\n",
        "def form_query_json(dic_input): #dic_input = {\"subject_ids\":[],\"subject_categories\":[], \"predicates\":[],\"object_ids\":[],\"object_categories\":[]}\n",
        "\n",
        "    Query_dict ={\"message\":{}}\n",
        "    Query_dict['message'] = {\"query_graph\":{}}\n",
        "    Query_dict[\"message\"][\"query_graph\"] = {}\n",
        "    Query_dict[\"message\"][\"query_graph\"][\"nodes\"] = {}\n",
        "    Query_dict[\"message\"][\"query_graph\"][\"nodes\"][\"n0\"] = {}\n",
        "    Query_dict[\"message\"][\"query_graph\"][\"nodes\"][\"n1\"] = {}\n",
        "\n",
        "    if \"subject_ids\" in  dic_input:\n",
        "      Query_dict[\"message\"][\"query_graph\"][\"nodes\"][\"n0\"][\"ids\"] = dic_input['subject_ids']\n",
        "\n",
        "    if \"subject_categories\" in dic_input :\n",
        "      Query_dict[\"message\"][\"query_graph\"][\"nodes\"][\"n0\"][\"categories\"] = dic_input['subject_categories']\n",
        "\n",
        "    if  \"object_ids\" in  dic_input :\n",
        "      Query_dict[\"message\"][\"query_graph\"][\"nodes\"][\"n1\"][\"ids\"] = dic_input['object_ids']\n",
        "\n",
        "    if \"object_categories\" in dic_input:\n",
        "        Query_dict[\"message\"][\"query_graph\"][\"nodes\"][\"n1\"][\"categories\"] = dic_input['object_categories']\n",
        "\n",
        "\n",
        "    Query_dict[\"message\"][\"query_graph\"][\"edges\"] = {}\n",
        "    Query_dict[\"message\"][\"query_graph\"][\"edges\"][\"e1\"] = {\"subject\": \"n0\",\"object\": \"n1\"}\n",
        "\n",
        "    if \"predicates\" in dic_input :\n",
        "      Query_dict[\"message\"][\"query_graph\"][\"edges\"][\"e1\"][\"predicates\"] = dic_input['predicates']\n",
        "    \n",
        "\n",
        "\n",
        "    #query_json_object = json.dumps(Query_dict, indent = 2) \n",
        "    return(Query_dict)\n",
        "\n",
        "\n",
        "import pandas as pd\n",
        "def get_first_neibors(query_json):\n",
        "\n",
        "  response = requests.post(BigGIM_URL,json=query_json)\n",
        "  result = response.json()[\"message\"]\n",
        "\n",
        "  nodes_neighors = result['knowledge_graph']['edges']\n",
        "  subject_list = []\n",
        "  object_list = []\n",
        "  predicate_list = []\n",
        "\n",
        "  for key in nodes_neighors:\n",
        "    subject_list.append(nodes_neighors[key]['subject'])\n",
        "    object_list.append(nodes_neighors[key]['object'])\n",
        "    predicate_list.append(nodes_neighors[key]['predicate'])\n",
        "\n",
        "  result_df = pd.DataFrame({\"subject\":subject_list,  \"predicate_list\":predicate_list, \"object\":object_list,})\n",
        "\n",
        "  \n",
        "  return(result_df)"
      ],
      "metadata": {
        "id": "5oAceebXL8Yv"
      },
      "execution_count": 145,
      "outputs": []
    },
    {
      "cell_type": "code",
      "source": [],
      "metadata": {
        "id": "1ijuI0jmPwiU"
      },
      "execution_count": 150,
      "outputs": []
    },
    {
      "cell_type": "code",
      "source": [
        "Query_dic = {\"hop1\":{\"object_ids\":[\"MONDO:0019391\"],\"object_categories\":[\"biolink:Disease\"], \"predicates\":[\"biolink:gene_associated_with_condition\"],\"subject_ids\":[],\"subject_categories\":[\"biolink:Gene\"]},\n",
        "             \"hop2\":{\"subject_ids\":[],\"subject_categories\":[], \"predicates\":[],\"object_ids\":[],\"object_categories\":[]},\n",
        "             \"hop3\":{\"subject_ids\":[],\"subject_categories\":[], \"predicates\":[],\"object_ids\":[],\"object_categories\":[]}}\n",
        "             "
      ],
      "metadata": {
        "id": "Of20GHeAOxur"
      },
      "execution_count": null,
      "outputs": []
    },
    {
      "cell_type": "code",
      "source": [
        "Query_1 = {\"object_ids\":[\"MONDO:0019391\"],\n",
        "           \"object_categories\":[\"biolink:Disease\"], \n",
        "           \"predicates\":[\"biolink:gene_associated_with_condition\"],\n",
        "           \"subject_categories\":[\"biolink:Gene\"]}\n",
        "query_json = form_query_json(Query_1)\n",
        "result_step1 = get_first_neibors(query_json)\n",
        "\n",
        "subject_nextstep = list(result_step1['subject'])\n",
        "Query_2 = {\"subject_ids\":subject_nextstep,\n",
        "           \"subject_categories\":[\"biolink:Gene\",\"biolink:Protein\"], \n",
        "           \"predicates\":[\"biolink:physically_interacts_with\"],\n",
        "           \"object_categories\":[\"biolink:Gene\",\"biolink:Protein\"]}\n",
        "\n",
        "query_json2 = form_query_json(Query_2)\n",
        "\n",
        "result_step2 = get_first_neibors(query_json2)\n",
        "subject_nextstep2 = list(set(result_step2['object']))[1:100]    \n",
        "#subject_nextstep2 = list(result_step2['knowledge_graph']['nodes'].keys())\n",
        "\n",
        "Query_3 = {\"subject_ids\":subject_nextstep2,\n",
        "           \"subject_categories\":[\"biolink:Gene\",\"biolink:Protein\"], \n",
        "           \"predicates\":[\"biolink:physically_interacts_with\",\"biolink:associated_with_sensitivity_to\"],\n",
        "           \"object_categories\":[\"biolink:SmallMolecule\",\"biolink:Drug\"]}\n",
        "\n",
        "query_json3 = form_query_json(Query_3)\n",
        "result_step3 = get_first_neibors(query_json3)\n",
        "subject_nextstep3 = list(result_step3['object'])         \n",
        "\n",
        "print(result_step3.shape)\n"
      ],
      "metadata": {
        "colab": {
          "base_uri": "https://localhost:8080/"
        },
        "id": "lT0c8U1lHaf3",
        "outputId": "97445955-7ec5-4d77-c876-82abd647af01"
      },
      "execution_count": 169,
      "outputs": [
        {
          "output_type": "stream",
          "name": "stdout",
          "text": [
            "(800, 3)\n"
          ]
        }
      ]
    },
    {
      "cell_type": "code",
      "source": [
        "Query_1 = {\"object_ids\":[\"MONDO:0019391\"],\n",
        "           \"object_categories\":[\"biolink:Disease\"], \n",
        "           \"predicates\":[\"biolink:gene_associated_with_condition\"],\n",
        "           \"subject_categories\":[\"biolink:Gene\"]}\n",
        "query_json = form_query_json(Query_1)\n",
        "result_step1 = get_first_neibors(query_json)\n",
        "\n",
        "subject_nextstep = list(result_step1['subject'])\n",
        "\n",
        "Query_3 = {\"subject_ids\":subject_nextstep,\n",
        "           \"subject_categories\":[\"biolink:Gene\",\"biolink:Protein\"], \n",
        "           \"predicates\":[\"biolink:physically_interacts_with\",\"biolink:associated_with_sensitivity_to\"],\n",
        "           \"object_categories\":[\"biolink:SmallMolecule\",\"biolink:Drug\"]}\n",
        "\n",
        "query_json3 = form_query_json(Query_3)\n",
        "result_step3 = get_first_neibors(query_json3)\n",
        "subject_nextstep3 = list(result_step3['object'])         \n",
        "\n",
        "print(result_step3.shape)"
      ],
      "metadata": {
        "colab": {
          "base_uri": "https://localhost:8080/"
        },
        "id": "td7Dq42ShKmp",
        "outputId": "2839eab9-9082-4e0d-ed62-a9624da231ce"
      },
      "execution_count": 170,
      "outputs": [
        {
          "output_type": "stream",
          "name": "stdout",
          "text": [
            "(123, 3)\n"
          ]
        }
      ]
    },
    {
      "cell_type": "code",
      "source": [
        "result_step3"
      ],
      "metadata": {
        "colab": {
          "base_uri": "https://localhost:8080/",
          "height": 424
        },
        "id": "WQo6QsjOe4Cg",
        "outputId": "f7ed69a3-83da-467c-93f2-7b4c3ad9c4e2"
      },
      "execution_count": 171,
      "outputs": [
        {
          "output_type": "execute_result",
          "data": {
            "text/plain": [
              "            subject                          predicate_list  \\\n",
              "0     NCBIGene:2072  biolink:associated_with_sensitivity_to   \n",
              "1     NCBIGene:2072  biolink:associated_with_sensitivity_to   \n",
              "2     NCBIGene:2072  biolink:associated_with_sensitivity_to   \n",
              "3      NCBIGene:672  biolink:associated_with_sensitivity_to   \n",
              "4      NCBIGene:672  biolink:associated_with_sensitivity_to   \n",
              "..              ...                                     ...   \n",
              "118  NCBIGene:55215  biolink:associated_with_sensitivity_to   \n",
              "119  NCBIGene:55215  biolink:associated_with_sensitivity_to   \n",
              "120  NCBIGene:55215  biolink:associated_with_sensitivity_to   \n",
              "121  NCBIGene:55215  biolink:associated_with_sensitivity_to   \n",
              "122  NCBIGene:55215  biolink:associated_with_sensitivity_to   \n",
              "\n",
              "                         object  \n",
              "0     PUBCHEM.COMPOUND:25226117  \n",
              "1      PUBCHEM.COMPOUND:5284616  \n",
              "2      PUBCHEM.COMPOUND:3062316  \n",
              "3      PUBCHEM.COMPOUND:3101542  \n",
              "4     PUBCHEM.COMPOUND:46943432  \n",
              "..                          ...  \n",
              "118  PUBCHEM.COMPOUND:135440466  \n",
              "119   PUBCHEM.COMPOUND:16095342  \n",
              "120   PUBCHEM.COMPOUND:46844147  \n",
              "121   PUBCHEM.COMPOUND:11234052  \n",
              "122   PUBCHEM.COMPOUND:10109823  \n",
              "\n",
              "[123 rows x 3 columns]"
            ],
            "text/html": [
              "\n",
              "  <div id=\"df-860f9c19-0096-4017-9e17-0c56f7cf817e\">\n",
              "    <div class=\"colab-df-container\">\n",
              "      <div>\n",
              "<style scoped>\n",
              "    .dataframe tbody tr th:only-of-type {\n",
              "        vertical-align: middle;\n",
              "    }\n",
              "\n",
              "    .dataframe tbody tr th {\n",
              "        vertical-align: top;\n",
              "    }\n",
              "\n",
              "    .dataframe thead th {\n",
              "        text-align: right;\n",
              "    }\n",
              "</style>\n",
              "<table border=\"1\" class=\"dataframe\">\n",
              "  <thead>\n",
              "    <tr style=\"text-align: right;\">\n",
              "      <th></th>\n",
              "      <th>subject</th>\n",
              "      <th>predicate_list</th>\n",
              "      <th>object</th>\n",
              "    </tr>\n",
              "  </thead>\n",
              "  <tbody>\n",
              "    <tr>\n",
              "      <th>0</th>\n",
              "      <td>NCBIGene:2072</td>\n",
              "      <td>biolink:associated_with_sensitivity_to</td>\n",
              "      <td>PUBCHEM.COMPOUND:25226117</td>\n",
              "    </tr>\n",
              "    <tr>\n",
              "      <th>1</th>\n",
              "      <td>NCBIGene:2072</td>\n",
              "      <td>biolink:associated_with_sensitivity_to</td>\n",
              "      <td>PUBCHEM.COMPOUND:5284616</td>\n",
              "    </tr>\n",
              "    <tr>\n",
              "      <th>2</th>\n",
              "      <td>NCBIGene:2072</td>\n",
              "      <td>biolink:associated_with_sensitivity_to</td>\n",
              "      <td>PUBCHEM.COMPOUND:3062316</td>\n",
              "    </tr>\n",
              "    <tr>\n",
              "      <th>3</th>\n",
              "      <td>NCBIGene:672</td>\n",
              "      <td>biolink:associated_with_sensitivity_to</td>\n",
              "      <td>PUBCHEM.COMPOUND:3101542</td>\n",
              "    </tr>\n",
              "    <tr>\n",
              "      <th>4</th>\n",
              "      <td>NCBIGene:672</td>\n",
              "      <td>biolink:associated_with_sensitivity_to</td>\n",
              "      <td>PUBCHEM.COMPOUND:46943432</td>\n",
              "    </tr>\n",
              "    <tr>\n",
              "      <th>...</th>\n",
              "      <td>...</td>\n",
              "      <td>...</td>\n",
              "      <td>...</td>\n",
              "    </tr>\n",
              "    <tr>\n",
              "      <th>118</th>\n",
              "      <td>NCBIGene:55215</td>\n",
              "      <td>biolink:associated_with_sensitivity_to</td>\n",
              "      <td>PUBCHEM.COMPOUND:135440466</td>\n",
              "    </tr>\n",
              "    <tr>\n",
              "      <th>119</th>\n",
              "      <td>NCBIGene:55215</td>\n",
              "      <td>biolink:associated_with_sensitivity_to</td>\n",
              "      <td>PUBCHEM.COMPOUND:16095342</td>\n",
              "    </tr>\n",
              "    <tr>\n",
              "      <th>120</th>\n",
              "      <td>NCBIGene:55215</td>\n",
              "      <td>biolink:associated_with_sensitivity_to</td>\n",
              "      <td>PUBCHEM.COMPOUND:46844147</td>\n",
              "    </tr>\n",
              "    <tr>\n",
              "      <th>121</th>\n",
              "      <td>NCBIGene:55215</td>\n",
              "      <td>biolink:associated_with_sensitivity_to</td>\n",
              "      <td>PUBCHEM.COMPOUND:11234052</td>\n",
              "    </tr>\n",
              "    <tr>\n",
              "      <th>122</th>\n",
              "      <td>NCBIGene:55215</td>\n",
              "      <td>biolink:associated_with_sensitivity_to</td>\n",
              "      <td>PUBCHEM.COMPOUND:10109823</td>\n",
              "    </tr>\n",
              "  </tbody>\n",
              "</table>\n",
              "<p>123 rows × 3 columns</p>\n",
              "</div>\n",
              "      <button class=\"colab-df-convert\" onclick=\"convertToInteractive('df-860f9c19-0096-4017-9e17-0c56f7cf817e')\"\n",
              "              title=\"Convert this dataframe to an interactive table.\"\n",
              "              style=\"display:none;\">\n",
              "        \n",
              "  <svg xmlns=\"http://www.w3.org/2000/svg\" height=\"24px\"viewBox=\"0 0 24 24\"\n",
              "       width=\"24px\">\n",
              "    <path d=\"M0 0h24v24H0V0z\" fill=\"none\"/>\n",
              "    <path d=\"M18.56 5.44l.94 2.06.94-2.06 2.06-.94-2.06-.94-.94-2.06-.94 2.06-2.06.94zm-11 1L8.5 8.5l.94-2.06 2.06-.94-2.06-.94L8.5 2.5l-.94 2.06-2.06.94zm10 10l.94 2.06.94-2.06 2.06-.94-2.06-.94-.94-2.06-.94 2.06-2.06.94z\"/><path d=\"M17.41 7.96l-1.37-1.37c-.4-.4-.92-.59-1.43-.59-.52 0-1.04.2-1.43.59L10.3 9.45l-7.72 7.72c-.78.78-.78 2.05 0 2.83L4 21.41c.39.39.9.59 1.41.59.51 0 1.02-.2 1.41-.59l7.78-7.78 2.81-2.81c.8-.78.8-2.07 0-2.86zM5.41 20L4 18.59l7.72-7.72 1.47 1.35L5.41 20z\"/>\n",
              "  </svg>\n",
              "      </button>\n",
              "      \n",
              "  <style>\n",
              "    .colab-df-container {\n",
              "      display:flex;\n",
              "      flex-wrap:wrap;\n",
              "      gap: 12px;\n",
              "    }\n",
              "\n",
              "    .colab-df-convert {\n",
              "      background-color: #E8F0FE;\n",
              "      border: none;\n",
              "      border-radius: 50%;\n",
              "      cursor: pointer;\n",
              "      display: none;\n",
              "      fill: #1967D2;\n",
              "      height: 32px;\n",
              "      padding: 0 0 0 0;\n",
              "      width: 32px;\n",
              "    }\n",
              "\n",
              "    .colab-df-convert:hover {\n",
              "      background-color: #E2EBFA;\n",
              "      box-shadow: 0px 1px 2px rgba(60, 64, 67, 0.3), 0px 1px 3px 1px rgba(60, 64, 67, 0.15);\n",
              "      fill: #174EA6;\n",
              "    }\n",
              "\n",
              "    [theme=dark] .colab-df-convert {\n",
              "      background-color: #3B4455;\n",
              "      fill: #D2E3FC;\n",
              "    }\n",
              "\n",
              "    [theme=dark] .colab-df-convert:hover {\n",
              "      background-color: #434B5C;\n",
              "      box-shadow: 0px 1px 3px 1px rgba(0, 0, 0, 0.15);\n",
              "      filter: drop-shadow(0px 1px 2px rgba(0, 0, 0, 0.3));\n",
              "      fill: #FFFFFF;\n",
              "    }\n",
              "  </style>\n",
              "\n",
              "      <script>\n",
              "        const buttonEl =\n",
              "          document.querySelector('#df-860f9c19-0096-4017-9e17-0c56f7cf817e button.colab-df-convert');\n",
              "        buttonEl.style.display =\n",
              "          google.colab.kernel.accessAllowed ? 'block' : 'none';\n",
              "\n",
              "        async function convertToInteractive(key) {\n",
              "          const element = document.querySelector('#df-860f9c19-0096-4017-9e17-0c56f7cf817e');\n",
              "          const dataTable =\n",
              "            await google.colab.kernel.invokeFunction('convertToInteractive',\n",
              "                                                     [key], {});\n",
              "          if (!dataTable) return;\n",
              "\n",
              "          const docLinkHtml = 'Like what you see? Visit the ' +\n",
              "            '<a target=\"_blank\" href=https://colab.research.google.com/notebooks/data_table.ipynb>data table notebook</a>'\n",
              "            + ' to learn more about interactive tables.';\n",
              "          element.innerHTML = '';\n",
              "          dataTable['output_type'] = 'display_data';\n",
              "          await google.colab.output.renderOutput(dataTable, element);\n",
              "          const docLink = document.createElement('div');\n",
              "          docLink.innerHTML = docLinkHtml;\n",
              "          element.appendChild(docLink);\n",
              "        }\n",
              "      </script>\n",
              "    </div>\n",
              "  </div>\n",
              "  "
            ]
          },
          "metadata": {},
          "execution_count": 171
        }
      ]
    },
    {
      "cell_type": "code",
      "source": [
        "Query_2 = {\"subject_ids\":[list(result_step1['subject'])],\n",
        "           \"subject_categories\":[\"biolink:Gene\",\"biolink:Protein\"], \n",
        "           \"predicates\":[\"biolink:physically_interacts_with\"],\n",
        "           \"object_categories\":[\"biolink:Gene\",\"biolink:Protein\"]}\n",
        "query_json2 = form_query_json(Query_2)\n",
        "result_step2 = get_first_neibors(query_json2)\n",
        "result_step2\n"
      ],
      "metadata": {
        "id": "BCa3yIEtTlX5"
      },
      "execution_count": 111,
      "outputs": []
    },
    {
      "cell_type": "code",
      "source": [
        "response = requests.post(BigGIM_URL,json=query_json)\n",
        "result1 = response.json()[\"message\"]\n",
        "\n",
        "Respsonse1= list(result['knowledge_graph']['nodes'].keys())[1:22]"
      ],
      "metadata": {
        "id": "9PTF7WpXLsqd"
      },
      "execution_count": 76,
      "outputs": []
    },
    {
      "cell_type": "code",
      "source": [
        "Respsonse1"
      ],
      "metadata": {
        "colab": {
          "base_uri": "https://localhost:8080/"
        },
        "id": "oexEekvPPCSg",
        "outputId": "43fd5d0c-0862-4e31-f7f7-e54f60c661f0"
      },
      "execution_count": 77,
      "outputs": [
        {
          "output_type": "execute_result",
          "data": {
            "text/plain": [
              "['NCBIGene:2072',\n",
              " 'NCBIGene:672',\n",
              " 'NCBIGene:675',\n",
              " 'NCBIGene:5888',\n",
              " 'NCBIGene:2188',\n",
              " 'NCBIGene:2189',\n",
              " 'NCBIGene:83990',\n",
              " 'NCBIGene:55120',\n",
              " 'NCBIGene:79728',\n",
              " 'NCBIGene:10459',\n",
              " 'NCBIGene:2176',\n",
              " 'NCBIGene:57697',\n",
              " 'NCBIGene:7516',\n",
              " 'NCBIGene:55159',\n",
              " 'NCBIGene:2178',\n",
              " 'NCBIGene:2175',\n",
              " 'NCBIGene:5889',\n",
              " 'NCBIGene:84464',\n",
              " 'NCBIGene:29089',\n",
              " 'NCBIGene:2177',\n",
              " 'NCBIGene:55215']"
            ]
          },
          "metadata": {},
          "execution_count": 77
        }
      ]
    },
    {
      "cell_type": "code",
      "source": [
        "\n",
        "\n",
        "for query in Query_dic:\n",
        "  query_json = form_query_json(Query_dic[query])\n",
        "  print(query_json)\n",
        "  response = requests.post(BigGIM_URL,json=query_json)\n",
        "  result1 = response.json()[\"message\"]\n",
        "\n",
        "  Respsonse1= list(result['knowledge_graph']['nodes'].keys())[1:22]\n",
        "\n",
        "  print(Respsonse1)"
      ],
      "metadata": {
        "colab": {
          "base_uri": "https://localhost:8080/",
          "height": 278
        },
        "id": "OPSRo0k6IwGg",
        "outputId": "f49fccf0-7d30-4257-b0c3-e6b3ad8ed7c1"
      },
      "execution_count": 59,
      "outputs": [
        {
          "output_type": "stream",
          "name": "stdout",
          "text": [
            "{'message': {'query_graph': {'nodes': {'n0': {'ids': [], 'categories': ['biolink:Gene']}, 'n1': {'ids': ['MONDO:0019391'], 'categories': ['biolink:Disease']}}, 'edges': {'e1': {'subject': 'n0', 'object': 'n1', 'predicates': ['biolink:gene_associated_with_condition']}}}}}\n"
          ]
        },
        {
          "output_type": "error",
          "ename": "KeyError",
          "evalue": "ignored",
          "traceback": [
            "\u001b[0;31m---------------------------------------------------------------------------\u001b[0m",
            "\u001b[0;31mKeyError\u001b[0m                                  Traceback (most recent call last)",
            "\u001b[0;32m<ipython-input-59-e590ba4bfbba>\u001b[0m in \u001b[0;36m<cell line: 7>\u001b[0;34m()\u001b[0m\n\u001b[1;32m      9\u001b[0m   \u001b[0mprint\u001b[0m\u001b[0;34m(\u001b[0m\u001b[0mquery_json\u001b[0m\u001b[0;34m)\u001b[0m\u001b[0;34m\u001b[0m\u001b[0;34m\u001b[0m\u001b[0m\n\u001b[1;32m     10\u001b[0m   \u001b[0mresponse\u001b[0m \u001b[0;34m=\u001b[0m \u001b[0mrequests\u001b[0m\u001b[0;34m.\u001b[0m\u001b[0mpost\u001b[0m\u001b[0;34m(\u001b[0m\u001b[0mBigGIM_URL\u001b[0m\u001b[0;34m,\u001b[0m\u001b[0mjson\u001b[0m\u001b[0;34m=\u001b[0m\u001b[0mquery_json\u001b[0m\u001b[0;34m)\u001b[0m\u001b[0;34m\u001b[0m\u001b[0;34m\u001b[0m\u001b[0m\n\u001b[0;32m---> 11\u001b[0;31m   \u001b[0mresult1\u001b[0m \u001b[0;34m=\u001b[0m \u001b[0mresponse\u001b[0m\u001b[0;34m.\u001b[0m\u001b[0mjson\u001b[0m\u001b[0;34m(\u001b[0m\u001b[0;34m)\u001b[0m\u001b[0;34m[\u001b[0m\u001b[0;34m\"message\"\u001b[0m\u001b[0;34m]\u001b[0m\u001b[0;34m\u001b[0m\u001b[0;34m\u001b[0m\u001b[0m\n\u001b[0m\u001b[1;32m     12\u001b[0m \u001b[0;34m\u001b[0m\u001b[0m\n\u001b[1;32m     13\u001b[0m   \u001b[0mRespsonse1\u001b[0m\u001b[0;34m=\u001b[0m \u001b[0mlist\u001b[0m\u001b[0;34m(\u001b[0m\u001b[0mresult\u001b[0m\u001b[0;34m[\u001b[0m\u001b[0;34m'knowledge_graph'\u001b[0m\u001b[0;34m]\u001b[0m\u001b[0;34m[\u001b[0m\u001b[0;34m'nodes'\u001b[0m\u001b[0;34m]\u001b[0m\u001b[0;34m.\u001b[0m\u001b[0mkeys\u001b[0m\u001b[0;34m(\u001b[0m\u001b[0;34m)\u001b[0m\u001b[0;34m)\u001b[0m\u001b[0;34m[\u001b[0m\u001b[0;36m1\u001b[0m\u001b[0;34m:\u001b[0m\u001b[0;36m22\u001b[0m\u001b[0;34m]\u001b[0m\u001b[0;34m\u001b[0m\u001b[0;34m\u001b[0m\u001b[0m\n",
            "\u001b[0;31mKeyError\u001b[0m: 'message'"
          ]
        }
      ]
    },
    {
      "cell_type": "code",
      "source": [],
      "metadata": {
        "id": "-dgvKYSkGfJ0"
      },
      "execution_count": 136,
      "outputs": []
    },
    {
      "cell_type": "code",
      "source": [
        "# Example: what are the genes that are negatively correlcted with KRAS (NCBIGene:3845) ?\n",
        "\n",
        "query_json1   = {\n",
        "    \"message\": {\n",
        "        \"query_graph\": {\n",
        "            \"nodes\": {\n",
        "                \"n1\": {\n",
        "                    \"ids\":[\"MONDO:0019391\"],\n",
        "                    \"categories\":[\"biolink:Disease\"]\n",
        "              },\n",
        "                \"n0\": {\n",
        "                    \"categories\":[\"biolink:Gene\"]\n",
        "                    \n",
        "               }\n",
        "            },\n",
        "            \"edges\": {\n",
        "                \"e1\": {\n",
        "                    \"subject\": \"n0\",\n",
        "                    \"object\": \"n1\",\n",
        "                    \"predicates\": [\"biolink:gene_associated_with_condition\"]\n",
        "                }\n",
        "            }\n",
        "        }\n",
        "    }\n",
        "}\n",
        "\n",
        "response = requests.post(BigGIM_URL,json=query_json1)\n",
        "result1 = response.json()[\"message\"]\n",
        "\n",
        "Respsonse1= list(result['knowledge_graph']['nodes'].keys())[1:22]\n",
        "\n",
        "\n",
        "# Example: what drugs or small molecules that target BCL2 (NCBIGene: 596)?\n",
        "query_json2 = {\n",
        "    \"message\": {\n",
        "        \"query_graph\": {\n",
        "            \"nodes\": {\n",
        "                \"n0\": {\n",
        "                    \"ids\":Respsonse1,\n",
        "                    \"categories\":[\"biolink:Gene\",\"biolink:Protein\"]\n",
        "                },\n",
        "                \"n1\": {\n",
        "                    \"categories\":[\"biolink:Gene\",\"biolink:Protein\"]\n",
        "                    \n",
        "               }\n",
        "            },\n",
        "            \"edges\": {\n",
        "                \"e1\": {\n",
        "                    \"subject\": \"n0\",\n",
        "                    \"object\": \"n1\",\n",
        "                    \"predicates\": [\"biolink:physically_interacts_with\"]\n",
        "                }\n",
        "            }\n",
        "        }\n",
        "    }\n",
        "}\n",
        "\n",
        "response2 = requests.post(BigGIM_URL,json=query_json2)\n",
        "result2 = response.json()[\"message\"]\n",
        "Response_2 = list(result2['knowledge_graph']['nodes'].keys())\n",
        "\n",
        "\n",
        "query_json3 = {\n",
        "    \"message\": {\n",
        "        \"query_graph\": {\n",
        "            \"nodes\": {\n",
        "                \"n0\": {\n",
        "                    \"ids\":Response_2,\n",
        "                    \"categories\":[\"biolink:Gene\",\"biolink:Protein\"]\n",
        "                },\n",
        "                \"n1\": {\n",
        "                    \"categories\":[\"biolink:SmallMolecule\",\"biolink:Drug\"]\n",
        "                    \n",
        "               }\n",
        "            },\n",
        "            \"edges\": {\n",
        "                \"e1\": {\n",
        "                    \"subject\": \"n0\",\n",
        "                    \"object\": \"n1\",\n",
        "                    \"predicates\": [\"biolink:physically_interacts_with\",\"biolink:associated_with_sensitivity_to\"]\n",
        "                }\n",
        "            }\n",
        "        }\n",
        "    }\n",
        "}\n",
        "\n",
        "response3 = requests.post(BigGIM_URL,json=query_json3)\n",
        "result3 = response3.json()[\"message\"]\n",
        "Respsonse3= list(result3['knowledge_graph']['nodes'].keys())\n",
        "\n"
      ],
      "metadata": {
        "id": "Tt5_1WhZBGot"
      },
      "execution_count": 134,
      "outputs": []
    },
    {
      "cell_type": "code",
      "source": [
        "Respsonse3"
      ],
      "metadata": {
        "colab": {
          "base_uri": "https://localhost:8080/"
        },
        "id": "lMGoSplcBRmz",
        "outputId": "220fdd73-2529-4d8b-edfd-e712adb0db94"
      },
      "execution_count": 144,
      "outputs": [
        {
          "output_type": "execute_result",
          "data": {
            "text/plain": [
              "['PUBCHEM.COMPOUND:25226117',\n",
              " 'NCBIGene:2072',\n",
              " 'PUBCHEM.COMPOUND:5284616',\n",
              " 'PUBCHEM.COMPOUND:3062316',\n",
              " 'PUBCHEM.COMPOUND:3101542',\n",
              " 'NCBIGene:672',\n",
              " 'PUBCHEM.COMPOUND:46943432',\n",
              " 'PUBCHEM.COMPOUND:49806720',\n",
              " 'PUBCHEM.COMPOUND:60750',\n",
              " 'PUBCHEM.COMPOUND:16663089',\n",
              " 'PUBCHEM.COMPOUND:9826308',\n",
              " 'PUBCHEM.COMPOUND:387447',\n",
              " 'PUBCHEM.COMPOUND:46844147',\n",
              " 'PUBCHEM.COMPOUND:46907787',\n",
              " 'NCBIGene:675',\n",
              " 'PUBCHEM.COMPOUND:560326',\n",
              " 'PUBCHEM.COMPOUND:25260757',\n",
              " 'PUBCHEM.COMPOUND:71299339',\n",
              " 'PUBCHEM.COMPOUND:5311497',\n",
              " 'PUBCHEM.COMPOUND:49850262',\n",
              " 'PUBCHEM.COMPOUND:46843772',\n",
              " 'PUBCHEM.COMPOUND:24856436',\n",
              " 'PUBCHEM.COMPOUND:11626560',\n",
              " 'PUBCHEM.COMPOUND:73707530',\n",
              " 'PUBCHEM.COMPOUND:11455910',\n",
              " 'PUBCHEM.COMPOUND:25254071',\n",
              " 'PUBCHEM.COMPOUND:4261',\n",
              " 'NCBIGene:5888',\n",
              " 'NCBIGene:2188',\n",
              " 'PUBCHEM.COMPOUND:444732',\n",
              " 'NCBIGene:2189',\n",
              " 'PUBCHEM.COMPOUND:135539077',\n",
              " 'NCBIGene:83990',\n",
              " 'PUBCHEM.COMPOUND:24785538',\n",
              " 'NCBIGene:55120',\n",
              " 'PUBCHEM.COMPOUND:51042438',\n",
              " 'PUBCHEM.COMPOUND:135421339',\n",
              " 'PUBCHEM.COMPOUND:135423438',\n",
              " 'PUBCHEM.COMPOUND:11364421',\n",
              " 'PUBCHEM.COMPOUND:135400873',\n",
              " 'PUBCHEM.COMPOUND:5360373',\n",
              " 'PUBCHEM.COMPOUND:24739943',\n",
              " 'PUBCHEM.COMPOUND:3385',\n",
              " 'PUBCHEM.COMPOUND:135440466',\n",
              " 'NCBIGene:79728',\n",
              " 'PUBCHEM.COMPOUND:5459219',\n",
              " 'PUBCHEM.COMPOUND:68947304',\n",
              " 'NCBIGene:10459',\n",
              " 'PUBCHEM.COMPOUND:31703',\n",
              " 'NCBIGene:2176',\n",
              " 'PUBCHEM.COMPOUND:11609586',\n",
              " 'NCBIGene:57697',\n",
              " 'PUBCHEM.COMPOUND:25227436',\n",
              " 'PUBCHEM.COMPOUND:51001932',\n",
              " 'NCBIGene:7516',\n",
              " 'PUBCHEM.COMPOUND:9910224',\n",
              " 'NCBIGene:55159',\n",
              " 'PUBCHEM.COMPOUND:126565',\n",
              " 'NCBIGene:2178',\n",
              " 'PUBCHEM.COMPOUND:71748056',\n",
              " 'PUBCHEM.COMPOUND:135410875',\n",
              " 'NCBIGene:2175',\n",
              " 'PUBCHEM.COMPOUND:2733526',\n",
              " 'PUBCHEM.COMPOUND:10184653',\n",
              " 'NCBIGene:5889',\n",
              " 'PUBCHEM.COMPOUND:9903786',\n",
              " 'NCBIGene:84464',\n",
              " 'PUBCHEM.COMPOUND:44462760',\n",
              " 'NCBIGene:29089',\n",
              " 'NCBIGene:2177',\n",
              " 'NCBIGene:55215',\n",
              " 'PUBCHEM.COMPOUND:16095342',\n",
              " 'PUBCHEM.COMPOUND:11234052',\n",
              " 'PUBCHEM.COMPOUND:10109823']"
            ]
          },
          "metadata": {},
          "execution_count": 144
        }
      ]
    },
    {
      "cell_type": "code",
      "source": [
        "# Example: what drugs could be repurposed to FA?\n",
        "\n",
        "query_json1   = {\n",
        "    \"message\": {\n",
        "        \"query_graph\": {\n",
        "            \"nodes\": {\n",
        "                \"n0\": {\n",
        "                    \"categories\":[\"biolink:Gene\"]\n",
        "               },\n",
        "                \"n1\": {\n",
        "                    \"ids\":[\"MONDO:0019391\"],\n",
        "                    \"categories\":[\"biolink:Disease\"]\n",
        "              },\n",
        "                \n",
        "            },\n",
        "            \"edges\": {\n",
        "                \"e1\": {\n",
        "                    \"subject\": \"n0\",\n",
        "                    \"object\": \"n1\",\n",
        "                    \"predicates\": [\"biolink:gene_associated_with_condition\"]\n",
        "                }\n",
        "            }\n",
        "        }\n",
        "    }\n",
        "}\n",
        "\n",
        "response = requests.post(BigGIM_URL,json=query_json1)\n",
        "result1 = response.json()[\"message\"]\n",
        "\n",
        "Respsonse1= list(result['knowledge_graph']['nodes'].keys())[1:22]\n",
        "\n",
        "\n",
        "# Example: what drugs or small molecules that target BCL2 (NCBIGene: 596)?\n",
        "query_json2 = {\n",
        "    \"message\": {\n",
        "        \"query_graph\": {\n",
        "            \"nodes\": {\n",
        "                \"n0\": {\n",
        "                    \"ids\":Respsonse1,\n",
        "                    \"categories\":[\"biolink:Gene\",\"biolink:Protein\"]\n",
        "                },\n",
        "                \"n1\": {\n",
        "                    \"categories\":[\"biolink:Gene\",\"biolink:Protein\"]\n",
        "                    \n",
        "               }\n",
        "            },\n",
        "            \"edges\": {\n",
        "                \"e1\": {\n",
        "                    \"subject\": \"n0\",\n",
        "                    \"object\": \"n1\",\n",
        "                    \"predicates\": [\"biolink:physically_interacts_with\"]\n",
        "                }\n",
        "            }\n",
        "        }\n",
        "    }\n",
        "}\n",
        "\n",
        "response2 = requests.post(BigGIM_URL,json=query_json2)\n",
        "result2 = response.json()[\"message\"]\n",
        "Response_2 = list(result2['knowledge_graph']['nodes'].keys())\n",
        "\n",
        "\n",
        "query_json3 = {\n",
        "    \"message\": {\n",
        "        \"query_graph\": {\n",
        "            \"nodes\": {\n",
        "                \"n0\": {\n",
        "                    \"ids\":Response_2,\n",
        "                    \"categories\":[\"biolink:Gene\",\"biolink:Protein\"]\n",
        "                },\n",
        "                \"n1\": {\n",
        "                    \"categories\":[\"biolink:SmallMolecule\",\"biolink:Drug\"]\n",
        "                    \n",
        "               }\n",
        "            },\n",
        "            \"edges\": {\n",
        "                \"e1\": {\n",
        "                    \"subject\": \"n0\",\n",
        "                    \"object\": \"n1\",\n",
        "                    \"predicates\": [\"biolink:physically_interacts_with\",\"biolink:associated_with_sensitivity_to\"]\n",
        "                }\n",
        "            }\n",
        "        }\n",
        "    }\n",
        "}\n",
        "\n",
        "response3 = requests.post(BigGIM_URL,json=query_json3)\n",
        "result3 = response3.json()[\"message\"]\n",
        "Respsonse3= list(result3['knowledge_graph']['nodes'].keys())\n",
        "\n"
      ],
      "metadata": {
        "id": "Pu86CwuZC7uw"
      },
      "execution_count": 137,
      "outputs": []
    },
    {
      "cell_type": "code",
      "source": [
        "result3['knowledge_graph']['nodes'].keys()"
      ],
      "metadata": {
        "colab": {
          "base_uri": "https://localhost:8080/"
        },
        "id": "JU0YYZldDQIb",
        "outputId": "fa9edcde-e36d-452f-9461-be12d68f66b3"
      },
      "execution_count": 143,
      "outputs": [
        {
          "output_type": "execute_result",
          "data": {
            "text/plain": [
              "dict_keys(['PUBCHEM.COMPOUND:25226117', 'NCBIGene:2072', 'PUBCHEM.COMPOUND:5284616', 'PUBCHEM.COMPOUND:3062316', 'PUBCHEM.COMPOUND:3101542', 'NCBIGene:672', 'PUBCHEM.COMPOUND:46943432', 'PUBCHEM.COMPOUND:49806720', 'PUBCHEM.COMPOUND:60750', 'PUBCHEM.COMPOUND:16663089', 'PUBCHEM.COMPOUND:9826308', 'PUBCHEM.COMPOUND:387447', 'PUBCHEM.COMPOUND:46844147', 'PUBCHEM.COMPOUND:46907787', 'NCBIGene:675', 'PUBCHEM.COMPOUND:560326', 'PUBCHEM.COMPOUND:25260757', 'PUBCHEM.COMPOUND:71299339', 'PUBCHEM.COMPOUND:5311497', 'PUBCHEM.COMPOUND:49850262', 'PUBCHEM.COMPOUND:46843772', 'PUBCHEM.COMPOUND:24856436', 'PUBCHEM.COMPOUND:11626560', 'PUBCHEM.COMPOUND:73707530', 'PUBCHEM.COMPOUND:11455910', 'PUBCHEM.COMPOUND:25254071', 'PUBCHEM.COMPOUND:4261', 'NCBIGene:5888', 'NCBIGene:2188', 'PUBCHEM.COMPOUND:444732', 'NCBIGene:2189', 'PUBCHEM.COMPOUND:135539077', 'NCBIGene:83990', 'PUBCHEM.COMPOUND:24785538', 'NCBIGene:55120', 'PUBCHEM.COMPOUND:51042438', 'PUBCHEM.COMPOUND:135421339', 'PUBCHEM.COMPOUND:135423438', 'PUBCHEM.COMPOUND:11364421', 'PUBCHEM.COMPOUND:135400873', 'PUBCHEM.COMPOUND:5360373', 'PUBCHEM.COMPOUND:24739943', 'PUBCHEM.COMPOUND:3385', 'PUBCHEM.COMPOUND:135440466', 'NCBIGene:79728', 'PUBCHEM.COMPOUND:5459219', 'PUBCHEM.COMPOUND:68947304', 'NCBIGene:10459', 'PUBCHEM.COMPOUND:31703', 'NCBIGene:2176', 'PUBCHEM.COMPOUND:11609586', 'NCBIGene:57697', 'PUBCHEM.COMPOUND:25227436', 'PUBCHEM.COMPOUND:51001932', 'NCBIGene:7516', 'PUBCHEM.COMPOUND:9910224', 'NCBIGene:55159', 'PUBCHEM.COMPOUND:126565', 'NCBIGene:2178', 'PUBCHEM.COMPOUND:71748056', 'PUBCHEM.COMPOUND:135410875', 'NCBIGene:2175', 'PUBCHEM.COMPOUND:2733526', 'PUBCHEM.COMPOUND:10184653', 'NCBIGene:5889', 'PUBCHEM.COMPOUND:9903786', 'NCBIGene:84464', 'PUBCHEM.COMPOUND:44462760', 'NCBIGene:29089', 'NCBIGene:2177', 'NCBIGene:55215', 'PUBCHEM.COMPOUND:16095342', 'PUBCHEM.COMPOUND:11234052', 'PUBCHEM.COMPOUND:10109823'])"
            ]
          },
          "metadata": {},
          "execution_count": 143
        }
      ]
    },
    {
      "cell_type": "code",
      "source": [],
      "metadata": {
        "id": "zmXkkU_RDUrk"
      },
      "execution_count": 42,
      "outputs": []
    },
    {
      "cell_type": "code",
      "source": [],
      "metadata": {
        "id": "P3i3tHjTEZ2b"
      },
      "execution_count": 46,
      "outputs": []
    }
  ]
}